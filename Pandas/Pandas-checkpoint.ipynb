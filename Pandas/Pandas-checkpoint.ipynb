{
 "cells": [
  {
   "cell_type": "code",
   "execution_count": 1,
   "id": "5756f316-1216-4373-97c5-4d92ec106967",
   "metadata": {},
   "outputs": [],
   "source": [
    "import numpy as np\n",
    "import pandas as pd"
   ]
  },
  {
   "cell_type": "code",
   "execution_count": 2,
   "id": "010d8a98-224b-4e75-b0aa-c887ae13401d",
   "metadata": {},
   "outputs": [],
   "source": [
    "dict1={\n",
    "    \"name\":['Rishi','Ayan', 'Soumitra'],\n",
    "    \"marks\":['13','55','81'],\n",
    "    \"city\":['kolkata','mankar','burdwan']\n",
    "}"
   ]
  },
  {
   "cell_type": "code",
   "execution_count": 3,
   "id": "84334097-c34c-4985-992e-331643baa2ff",
   "metadata": {},
   "outputs": [],
   "source": [
    "df=pd.DataFrame(dict1)"
   ]
  },
  {
   "cell_type": "code",
   "execution_count": 4,
   "id": "53f1fec3-f576-4e62-bcfb-647a4b2bc767",
   "metadata": {},
   "outputs": [
    {
     "data": {
      "text/html": [
       "<div>\n",
       "<style scoped>\n",
       "    .dataframe tbody tr th:only-of-type {\n",
       "        vertical-align: middle;\n",
       "    }\n",
       "\n",
       "    .dataframe tbody tr th {\n",
       "        vertical-align: top;\n",
       "    }\n",
       "\n",
       "    .dataframe thead th {\n",
       "        text-align: right;\n",
       "    }\n",
       "</style>\n",
       "<table border=\"1\" class=\"dataframe\">\n",
       "  <thead>\n",
       "    <tr style=\"text-align: right;\">\n",
       "      <th></th>\n",
       "      <th>name</th>\n",
       "      <th>marks</th>\n",
       "      <th>city</th>\n",
       "    </tr>\n",
       "  </thead>\n",
       "  <tbody>\n",
       "    <tr>\n",
       "      <th>0</th>\n",
       "      <td>Rishi</td>\n",
       "      <td>13</td>\n",
       "      <td>kolkata</td>\n",
       "    </tr>\n",
       "    <tr>\n",
       "      <th>1</th>\n",
       "      <td>Ayan</td>\n",
       "      <td>55</td>\n",
       "      <td>mankar</td>\n",
       "    </tr>\n",
       "    <tr>\n",
       "      <th>2</th>\n",
       "      <td>Soumitra</td>\n",
       "      <td>81</td>\n",
       "      <td>burdwan</td>\n",
       "    </tr>\n",
       "  </tbody>\n",
       "</table>\n",
       "</div>"
      ],
      "text/plain": [
       "       name marks     city\n",
       "0     Rishi    13  kolkata\n",
       "1      Ayan    55   mankar\n",
       "2  Soumitra    81  burdwan"
      ]
     },
     "execution_count": 4,
     "metadata": {},
     "output_type": "execute_result"
    }
   ],
   "source": [
    "df"
   ]
  },
  {
   "cell_type": "code",
   "execution_count": 5,
   "id": "5341fbdc-9b24-4f1d-bdd0-2b9809d2d569",
   "metadata": {},
   "outputs": [],
   "source": [
    "df.to_csv('friends.csv')"
   ]
  },
  {
   "cell_type": "code",
   "execution_count": 6,
   "id": "f2bfb7d0-95a6-44c1-b3e3-68fe553e4f10",
   "metadata": {},
   "outputs": [],
   "source": [
    "df.to_csv('friends_index_false.csv', index=False)"
   ]
  },
  {
   "cell_type": "code",
   "execution_count": 7,
   "id": "337dd890-b75d-4c12-b242-9e405ba5a882",
   "metadata": {},
   "outputs": [
    {
     "data": {
      "text/html": [
       "<div>\n",
       "<style scoped>\n",
       "    .dataframe tbody tr th:only-of-type {\n",
       "        vertical-align: middle;\n",
       "    }\n",
       "\n",
       "    .dataframe tbody tr th {\n",
       "        vertical-align: top;\n",
       "    }\n",
       "\n",
       "    .dataframe thead th {\n",
       "        text-align: right;\n",
       "    }\n",
       "</style>\n",
       "<table border=\"1\" class=\"dataframe\">\n",
       "  <thead>\n",
       "    <tr style=\"text-align: right;\">\n",
       "      <th></th>\n",
       "      <th>name</th>\n",
       "      <th>marks</th>\n",
       "      <th>city</th>\n",
       "    </tr>\n",
       "  </thead>\n",
       "  <tbody>\n",
       "    <tr>\n",
       "      <th>0</th>\n",
       "      <td>Rishi</td>\n",
       "      <td>13</td>\n",
       "      <td>kolkata</td>\n",
       "    </tr>\n",
       "    <tr>\n",
       "      <th>1</th>\n",
       "      <td>Ayan</td>\n",
       "      <td>55</td>\n",
       "      <td>mankar</td>\n",
       "    </tr>\n",
       "  </tbody>\n",
       "</table>\n",
       "</div>"
      ],
      "text/plain": [
       "    name marks     city\n",
       "0  Rishi    13  kolkata\n",
       "1   Ayan    55   mankar"
      ]
     },
     "execution_count": 7,
     "metadata": {},
     "output_type": "execute_result"
    }
   ],
   "source": [
    "df.head(2)"
   ]
  },
  {
   "cell_type": "code",
   "execution_count": 8,
   "id": "b743b9f9-3620-4477-8cec-8e32ebcd6da5",
   "metadata": {},
   "outputs": [
    {
     "data": {
      "text/html": [
       "<div>\n",
       "<style scoped>\n",
       "    .dataframe tbody tr th:only-of-type {\n",
       "        vertical-align: middle;\n",
       "    }\n",
       "\n",
       "    .dataframe tbody tr th {\n",
       "        vertical-align: top;\n",
       "    }\n",
       "\n",
       "    .dataframe thead th {\n",
       "        text-align: right;\n",
       "    }\n",
       "</style>\n",
       "<table border=\"1\" class=\"dataframe\">\n",
       "  <thead>\n",
       "    <tr style=\"text-align: right;\">\n",
       "      <th></th>\n",
       "      <th>name</th>\n",
       "      <th>marks</th>\n",
       "      <th>city</th>\n",
       "    </tr>\n",
       "  </thead>\n",
       "  <tbody>\n",
       "    <tr>\n",
       "      <th>1</th>\n",
       "      <td>Ayan</td>\n",
       "      <td>55</td>\n",
       "      <td>mankar</td>\n",
       "    </tr>\n",
       "    <tr>\n",
       "      <th>2</th>\n",
       "      <td>Soumitra</td>\n",
       "      <td>81</td>\n",
       "      <td>burdwan</td>\n",
       "    </tr>\n",
       "  </tbody>\n",
       "</table>\n",
       "</div>"
      ],
      "text/plain": [
       "       name marks     city\n",
       "1      Ayan    55   mankar\n",
       "2  Soumitra    81  burdwan"
      ]
     },
     "execution_count": 8,
     "metadata": {},
     "output_type": "execute_result"
    }
   ],
   "source": [
    "df.tail(2)"
   ]
  },
  {
   "cell_type": "code",
   "execution_count": 9,
   "id": "5af755d6-38e8-4bbb-9e8c-0be1cdcc601f",
   "metadata": {},
   "outputs": [
    {
     "data": {
      "text/html": [
       "<div>\n",
       "<style scoped>\n",
       "    .dataframe tbody tr th:only-of-type {\n",
       "        vertical-align: middle;\n",
       "    }\n",
       "\n",
       "    .dataframe tbody tr th {\n",
       "        vertical-align: top;\n",
       "    }\n",
       "\n",
       "    .dataframe thead th {\n",
       "        text-align: right;\n",
       "    }\n",
       "</style>\n",
       "<table border=\"1\" class=\"dataframe\">\n",
       "  <thead>\n",
       "    <tr style=\"text-align: right;\">\n",
       "      <th></th>\n",
       "      <th>name</th>\n",
       "      <th>marks</th>\n",
       "      <th>city</th>\n",
       "    </tr>\n",
       "  </thead>\n",
       "  <tbody>\n",
       "    <tr>\n",
       "      <th>count</th>\n",
       "      <td>3</td>\n",
       "      <td>3</td>\n",
       "      <td>3</td>\n",
       "    </tr>\n",
       "    <tr>\n",
       "      <th>unique</th>\n",
       "      <td>3</td>\n",
       "      <td>3</td>\n",
       "      <td>3</td>\n",
       "    </tr>\n",
       "    <tr>\n",
       "      <th>top</th>\n",
       "      <td>Rishi</td>\n",
       "      <td>13</td>\n",
       "      <td>kolkata</td>\n",
       "    </tr>\n",
       "    <tr>\n",
       "      <th>freq</th>\n",
       "      <td>1</td>\n",
       "      <td>1</td>\n",
       "      <td>1</td>\n",
       "    </tr>\n",
       "  </tbody>\n",
       "</table>\n",
       "</div>"
      ],
      "text/plain": [
       "         name marks     city\n",
       "count       3     3        3\n",
       "unique      3     3        3\n",
       "top     Rishi    13  kolkata\n",
       "freq        1     1        1"
      ]
     },
     "execution_count": 9,
     "metadata": {},
     "output_type": "execute_result"
    }
   ],
   "source": [
    "df.describe()"
   ]
  },
  {
   "cell_type": "code",
   "execution_count": 10,
   "id": "0e1c7fdc-5b99-4d37-91ac-18752ff1ad49",
   "metadata": {},
   "outputs": [],
   "source": [
    "rishi=pd.read_csv('Rishi.csv')"
   ]
  },
  {
   "cell_type": "code",
   "execution_count": 11,
   "id": "b7112bfc-e423-4ae0-84ef-2896ede8682c",
   "metadata": {},
   "outputs": [
    {
     "data": {
      "text/html": [
       "<div>\n",
       "<style scoped>\n",
       "    .dataframe tbody tr th:only-of-type {\n",
       "        vertical-align: middle;\n",
       "    }\n",
       "\n",
       "    .dataframe tbody tr th {\n",
       "        vertical-align: top;\n",
       "    }\n",
       "\n",
       "    .dataframe thead th {\n",
       "        text-align: right;\n",
       "    }\n",
       "</style>\n",
       "<table border=\"1\" class=\"dataframe\">\n",
       "  <thead>\n",
       "    <tr style=\"text-align: right;\">\n",
       "      <th></th>\n",
       "      <th>Unnamed: 0</th>\n",
       "      <th>Train No</th>\n",
       "      <th>Speed</th>\n",
       "      <th>city</th>\n",
       "    </tr>\n",
       "  </thead>\n",
       "  <tbody>\n",
       "    <tr>\n",
       "      <th>0</th>\n",
       "      <td>0</td>\n",
       "      <td>1654</td>\n",
       "      <td>345</td>\n",
       "      <td>kolkata</td>\n",
       "    </tr>\n",
       "    <tr>\n",
       "      <th>1</th>\n",
       "      <td>1</td>\n",
       "      <td>6874</td>\n",
       "      <td>155</td>\n",
       "      <td>mankar</td>\n",
       "    </tr>\n",
       "    <tr>\n",
       "      <th>2</th>\n",
       "      <td>2</td>\n",
       "      <td>2654</td>\n",
       "      <td>181</td>\n",
       "      <td>burdwan</td>\n",
       "    </tr>\n",
       "  </tbody>\n",
       "</table>\n",
       "</div>"
      ],
      "text/plain": [
       "   Unnamed: 0  Train No  Speed     city\n",
       "0           0      1654    345  kolkata\n",
       "1           1      6874    155   mankar\n",
       "2           2      2654    181  burdwan"
      ]
     },
     "execution_count": 11,
     "metadata": {},
     "output_type": "execute_result"
    }
   ],
   "source": [
    "rishi"
   ]
  },
  {
   "cell_type": "code",
   "execution_count": 12,
   "id": "e41a89b0-2264-4c94-b7ea-3adfd725fb28",
   "metadata": {},
   "outputs": [
    {
     "data": {
      "text/plain": [
       "0    345\n",
       "1    155\n",
       "2    181\n",
       "Name: Speed, dtype: int64"
      ]
     },
     "execution_count": 12,
     "metadata": {},
     "output_type": "execute_result"
    }
   ],
   "source": [
    "rishi['Speed']"
   ]
  },
  {
   "cell_type": "code",
   "execution_count": 13,
   "id": "697a9533-d8d4-43ea-a633-f5744a2038e6",
   "metadata": {},
   "outputs": [
    {
     "data": {
      "text/plain": [
       "345"
      ]
     },
     "execution_count": 13,
     "metadata": {},
     "output_type": "execute_result"
    }
   ],
   "source": [
    "rishi['Speed'][0]"
   ]
  },
  {
   "cell_type": "code",
   "execution_count": 14,
   "id": "72946597-6158-43b6-8944-d41a2bd6448b",
   "metadata": {},
   "outputs": [
    {
     "name": "stderr",
     "output_type": "stream",
     "text": [
      "C:\\Users\\Asus\\AppData\\Local\\Temp\\ipykernel_13656\\1243107123.py:1: SettingWithCopyWarning: \n",
      "A value is trying to be set on a copy of a slice from a DataFrame\n",
      "\n",
      "See the caveats in the documentation: https://pandas.pydata.org/pandas-docs/stable/user_guide/indexing.html#returning-a-view-versus-a-copy\n",
      "  rishi['Speed'][0] =345\n"
     ]
    }
   ],
   "source": [
    "rishi['Speed'][0] =345"
   ]
  },
  {
   "cell_type": "code",
   "execution_count": 15,
   "id": "fcdae30b-1f5f-44a6-96a8-b6150215e807",
   "metadata": {},
   "outputs": [
    {
     "data": {
      "text/html": [
       "<div>\n",
       "<style scoped>\n",
       "    .dataframe tbody tr th:only-of-type {\n",
       "        vertical-align: middle;\n",
       "    }\n",
       "\n",
       "    .dataframe tbody tr th {\n",
       "        vertical-align: top;\n",
       "    }\n",
       "\n",
       "    .dataframe thead th {\n",
       "        text-align: right;\n",
       "    }\n",
       "</style>\n",
       "<table border=\"1\" class=\"dataframe\">\n",
       "  <thead>\n",
       "    <tr style=\"text-align: right;\">\n",
       "      <th></th>\n",
       "      <th>Unnamed: 0</th>\n",
       "      <th>Train No</th>\n",
       "      <th>Speed</th>\n",
       "      <th>city</th>\n",
       "    </tr>\n",
       "  </thead>\n",
       "  <tbody>\n",
       "    <tr>\n",
       "      <th>0</th>\n",
       "      <td>0</td>\n",
       "      <td>1654</td>\n",
       "      <td>345</td>\n",
       "      <td>kolkata</td>\n",
       "    </tr>\n",
       "    <tr>\n",
       "      <th>1</th>\n",
       "      <td>1</td>\n",
       "      <td>6874</td>\n",
       "      <td>155</td>\n",
       "      <td>mankar</td>\n",
       "    </tr>\n",
       "    <tr>\n",
       "      <th>2</th>\n",
       "      <td>2</td>\n",
       "      <td>2654</td>\n",
       "      <td>181</td>\n",
       "      <td>burdwan</td>\n",
       "    </tr>\n",
       "  </tbody>\n",
       "</table>\n",
       "</div>"
      ],
      "text/plain": [
       "   Unnamed: 0  Train No  Speed     city\n",
       "0           0      1654    345  kolkata\n",
       "1           1      6874    155   mankar\n",
       "2           2      2654    181  burdwan"
      ]
     },
     "execution_count": 15,
     "metadata": {},
     "output_type": "execute_result"
    }
   ],
   "source": [
    "rishi"
   ]
  },
  {
   "cell_type": "code",
   "execution_count": 16,
   "id": "73b46615-2c46-458d-b05b-87a2e20549d2",
   "metadata": {},
   "outputs": [],
   "source": [
    "rishi.to_csv('Rishi.csv')"
   ]
  },
  {
   "cell_type": "code",
   "execution_count": 17,
   "id": "4cd43c57-34cd-41a6-b87f-d4480367944e",
   "metadata": {},
   "outputs": [],
   "source": [
    "rishi.index=['first','second','third']"
   ]
  },
  {
   "cell_type": "code",
   "execution_count": 18,
   "id": "0624c529-0919-404d-9621-a79520a8ce21",
   "metadata": {},
   "outputs": [
    {
     "data": {
      "text/html": [
       "<div>\n",
       "<style scoped>\n",
       "    .dataframe tbody tr th:only-of-type {\n",
       "        vertical-align: middle;\n",
       "    }\n",
       "\n",
       "    .dataframe tbody tr th {\n",
       "        vertical-align: top;\n",
       "    }\n",
       "\n",
       "    .dataframe thead th {\n",
       "        text-align: right;\n",
       "    }\n",
       "</style>\n",
       "<table border=\"1\" class=\"dataframe\">\n",
       "  <thead>\n",
       "    <tr style=\"text-align: right;\">\n",
       "      <th></th>\n",
       "      <th>Unnamed: 0</th>\n",
       "      <th>Train No</th>\n",
       "      <th>Speed</th>\n",
       "      <th>city</th>\n",
       "    </tr>\n",
       "  </thead>\n",
       "  <tbody>\n",
       "    <tr>\n",
       "      <th>first</th>\n",
       "      <td>0</td>\n",
       "      <td>1654</td>\n",
       "      <td>345</td>\n",
       "      <td>kolkata</td>\n",
       "    </tr>\n",
       "    <tr>\n",
       "      <th>second</th>\n",
       "      <td>1</td>\n",
       "      <td>6874</td>\n",
       "      <td>155</td>\n",
       "      <td>mankar</td>\n",
       "    </tr>\n",
       "    <tr>\n",
       "      <th>third</th>\n",
       "      <td>2</td>\n",
       "      <td>2654</td>\n",
       "      <td>181</td>\n",
       "      <td>burdwan</td>\n",
       "    </tr>\n",
       "  </tbody>\n",
       "</table>\n",
       "</div>"
      ],
      "text/plain": [
       "        Unnamed: 0  Train No  Speed     city\n",
       "first            0      1654    345  kolkata\n",
       "second           1      6874    155   mankar\n",
       "third            2      2654    181  burdwan"
      ]
     },
     "execution_count": 18,
     "metadata": {},
     "output_type": "execute_result"
    }
   ],
   "source": [
    "rishi"
   ]
  },
  {
   "cell_type": "code",
   "execution_count": 19,
   "id": "52d23595-dc77-4d48-80e9-3cac56ce8234",
   "metadata": {},
   "outputs": [],
   "source": [
    "ser=pd.Series(np.random.rand(34))"
   ]
  },
  {
   "cell_type": "code",
   "execution_count": 20,
   "id": "8d37e345-f0fc-4496-9bfa-daa45cd62e4e",
   "metadata": {},
   "outputs": [
    {
     "data": {
      "text/plain": [
       "0     0.538473\n",
       "1     0.811965\n",
       "2     0.470299\n",
       "3     0.911956\n",
       "4     0.083309\n",
       "5     0.724399\n",
       "6     0.772588\n",
       "7     0.809731\n",
       "8     0.384924\n",
       "9     0.709178\n",
       "10    0.940198\n",
       "11    0.532300\n",
       "12    0.454949\n",
       "13    0.906090\n",
       "14    0.644014\n",
       "15    0.564885\n",
       "16    0.319088\n",
       "17    0.881052\n",
       "18    0.251003\n",
       "19    0.982702\n",
       "20    0.049445\n",
       "21    0.819294\n",
       "22    0.456932\n",
       "23    0.039271\n",
       "24    0.653011\n",
       "25    0.996412\n",
       "26    0.650266\n",
       "27    0.126784\n",
       "28    0.758416\n",
       "29    0.711317\n",
       "30    0.951950\n",
       "31    0.030563\n",
       "32    0.522010\n",
       "33    0.275046\n",
       "dtype: float64"
      ]
     },
     "execution_count": 20,
     "metadata": {},
     "output_type": "execute_result"
    }
   ],
   "source": [
    "ser"
   ]
  },
  {
   "cell_type": "code",
   "execution_count": 21,
   "id": "36662d76-65f1-45d6-812f-459266548863",
   "metadata": {},
   "outputs": [
    {
     "data": {
      "text/plain": [
       "pandas.core.series.Series"
      ]
     },
     "execution_count": 21,
     "metadata": {},
     "output_type": "execute_result"
    }
   ],
   "source": [
    "type(ser)"
   ]
  },
  {
   "cell_type": "code",
   "execution_count": 22,
   "id": "1a9d0f37-b2d8-4ea0-9b00-3942603723ed",
   "metadata": {},
   "outputs": [],
   "source": [
    "newdf=pd.DataFrame(np.random.rand(334,5), index=np.arange(334))"
   ]
  },
  {
   "cell_type": "code",
   "execution_count": 25,
   "id": "fb616996-537f-49ce-a42e-58c6ce7709a1",
   "metadata": {},
   "outputs": [
    {
     "data": {
      "text/html": [
       "<div>\n",
       "<style scoped>\n",
       "    .dataframe tbody tr th:only-of-type {\n",
       "        vertical-align: middle;\n",
       "    }\n",
       "\n",
       "    .dataframe tbody tr th {\n",
       "        vertical-align: top;\n",
       "    }\n",
       "\n",
       "    .dataframe thead th {\n",
       "        text-align: right;\n",
       "    }\n",
       "</style>\n",
       "<table border=\"1\" class=\"dataframe\">\n",
       "  <thead>\n",
       "    <tr style=\"text-align: right;\">\n",
       "      <th></th>\n",
       "      <th>0</th>\n",
       "      <th>1</th>\n",
       "      <th>2</th>\n",
       "      <th>3</th>\n",
       "      <th>4</th>\n",
       "    </tr>\n",
       "  </thead>\n",
       "  <tbody>\n",
       "    <tr>\n",
       "      <th>0</th>\n",
       "      <td>0.363490</td>\n",
       "      <td>0.410075</td>\n",
       "      <td>0.065597</td>\n",
       "      <td>0.286763</td>\n",
       "      <td>0.070725</td>\n",
       "    </tr>\n",
       "    <tr>\n",
       "      <th>1</th>\n",
       "      <td>0.154395</td>\n",
       "      <td>0.813348</td>\n",
       "      <td>0.993320</td>\n",
       "      <td>0.700145</td>\n",
       "      <td>0.228389</td>\n",
       "    </tr>\n",
       "    <tr>\n",
       "      <th>2</th>\n",
       "      <td>0.515725</td>\n",
       "      <td>0.316709</td>\n",
       "      <td>0.236385</td>\n",
       "      <td>0.326834</td>\n",
       "      <td>0.507301</td>\n",
       "    </tr>\n",
       "    <tr>\n",
       "      <th>3</th>\n",
       "      <td>0.395581</td>\n",
       "      <td>0.412307</td>\n",
       "      <td>0.580574</td>\n",
       "      <td>0.898242</td>\n",
       "      <td>0.906209</td>\n",
       "    </tr>\n",
       "    <tr>\n",
       "      <th>4</th>\n",
       "      <td>0.536622</td>\n",
       "      <td>0.136400</td>\n",
       "      <td>0.431188</td>\n",
       "      <td>0.218096</td>\n",
       "      <td>0.360816</td>\n",
       "    </tr>\n",
       "  </tbody>\n",
       "</table>\n",
       "</div>"
      ],
      "text/plain": [
       "          0         1         2         3         4\n",
       "0  0.363490  0.410075  0.065597  0.286763  0.070725\n",
       "1  0.154395  0.813348  0.993320  0.700145  0.228389\n",
       "2  0.515725  0.316709  0.236385  0.326834  0.507301\n",
       "3  0.395581  0.412307  0.580574  0.898242  0.906209\n",
       "4  0.536622  0.136400  0.431188  0.218096  0.360816"
      ]
     },
     "execution_count": 25,
     "metadata": {},
     "output_type": "execute_result"
    }
   ],
   "source": [
    "newdf.head()"
   ]
  },
  {
   "cell_type": "code",
   "execution_count": 26,
   "id": "21117f9c-9ec9-4298-b8e3-bf50b31a9b70",
   "metadata": {},
   "outputs": [
    {
     "data": {
      "text/html": [
       "<div>\n",
       "<style scoped>\n",
       "    .dataframe tbody tr th:only-of-type {\n",
       "        vertical-align: middle;\n",
       "    }\n",
       "\n",
       "    .dataframe tbody tr th {\n",
       "        vertical-align: top;\n",
       "    }\n",
       "\n",
       "    .dataframe thead th {\n",
       "        text-align: right;\n",
       "    }\n",
       "</style>\n",
       "<table border=\"1\" class=\"dataframe\">\n",
       "  <thead>\n",
       "    <tr style=\"text-align: right;\">\n",
       "      <th></th>\n",
       "      <th>0</th>\n",
       "      <th>1</th>\n",
       "      <th>2</th>\n",
       "      <th>3</th>\n",
       "      <th>4</th>\n",
       "    </tr>\n",
       "  </thead>\n",
       "  <tbody>\n",
       "    <tr>\n",
       "      <th>count</th>\n",
       "      <td>334.000000</td>\n",
       "      <td>334.000000</td>\n",
       "      <td>334.000000</td>\n",
       "      <td>334.000000</td>\n",
       "      <td>334.000000</td>\n",
       "    </tr>\n",
       "    <tr>\n",
       "      <th>mean</th>\n",
       "      <td>0.496665</td>\n",
       "      <td>0.501514</td>\n",
       "      <td>0.487290</td>\n",
       "      <td>0.534108</td>\n",
       "      <td>0.508806</td>\n",
       "    </tr>\n",
       "    <tr>\n",
       "      <th>std</th>\n",
       "      <td>0.293217</td>\n",
       "      <td>0.275775</td>\n",
       "      <td>0.269265</td>\n",
       "      <td>0.282827</td>\n",
       "      <td>0.286621</td>\n",
       "    </tr>\n",
       "    <tr>\n",
       "      <th>min</th>\n",
       "      <td>0.000144</td>\n",
       "      <td>0.005884</td>\n",
       "      <td>0.003946</td>\n",
       "      <td>0.003932</td>\n",
       "      <td>0.013123</td>\n",
       "    </tr>\n",
       "    <tr>\n",
       "      <th>25%</th>\n",
       "      <td>0.230385</td>\n",
       "      <td>0.283704</td>\n",
       "      <td>0.271102</td>\n",
       "      <td>0.287558</td>\n",
       "      <td>0.275010</td>\n",
       "    </tr>\n",
       "    <tr>\n",
       "      <th>50%</th>\n",
       "      <td>0.510250</td>\n",
       "      <td>0.515343</td>\n",
       "      <td>0.462572</td>\n",
       "      <td>0.568815</td>\n",
       "      <td>0.495361</td>\n",
       "    </tr>\n",
       "    <tr>\n",
       "      <th>75%</th>\n",
       "      <td>0.747778</td>\n",
       "      <td>0.733350</td>\n",
       "      <td>0.695937</td>\n",
       "      <td>0.772344</td>\n",
       "      <td>0.773485</td>\n",
       "    </tr>\n",
       "    <tr>\n",
       "      <th>max</th>\n",
       "      <td>0.997338</td>\n",
       "      <td>0.989384</td>\n",
       "      <td>0.993320</td>\n",
       "      <td>0.996963</td>\n",
       "      <td>0.999810</td>\n",
       "    </tr>\n",
       "  </tbody>\n",
       "</table>\n",
       "</div>"
      ],
      "text/plain": [
       "                0           1           2           3           4\n",
       "count  334.000000  334.000000  334.000000  334.000000  334.000000\n",
       "mean     0.496665    0.501514    0.487290    0.534108    0.508806\n",
       "std      0.293217    0.275775    0.269265    0.282827    0.286621\n",
       "min      0.000144    0.005884    0.003946    0.003932    0.013123\n",
       "25%      0.230385    0.283704    0.271102    0.287558    0.275010\n",
       "50%      0.510250    0.515343    0.462572    0.568815    0.495361\n",
       "75%      0.747778    0.733350    0.695937    0.772344    0.773485\n",
       "max      0.997338    0.989384    0.993320    0.996963    0.999810"
      ]
     },
     "execution_count": 26,
     "metadata": {},
     "output_type": "execute_result"
    }
   ],
   "source": [
    "newdf.describe()"
   ]
  },
  {
   "cell_type": "code",
   "execution_count": 27,
   "id": "be0745e2-4aab-4689-baaa-31693fa00dbb",
   "metadata": {},
   "outputs": [
    {
     "data": {
      "text/plain": [
       "0    float64\n",
       "1    float64\n",
       "2    float64\n",
       "3    float64\n",
       "4    float64\n",
       "dtype: object"
      ]
     },
     "execution_count": 27,
     "metadata": {},
     "output_type": "execute_result"
    }
   ],
   "source": [
    "newdf.dtypes"
   ]
  },
  {
   "cell_type": "code",
   "execution_count": 29,
   "id": "d1dde797-ec9b-4290-899d-1c3c6d1388b2",
   "metadata": {},
   "outputs": [],
   "source": [
    "newdf[0][0]=\"Rishi\""
   ]
  },
  {
   "cell_type": "code",
   "execution_count": 31,
   "id": "333fa44f-8d93-47fe-9e63-5f5081b50ac6",
   "metadata": {},
   "outputs": [
    {
     "data": {
      "text/html": [
       "<div>\n",
       "<style scoped>\n",
       "    .dataframe tbody tr th:only-of-type {\n",
       "        vertical-align: middle;\n",
       "    }\n",
       "\n",
       "    .dataframe tbody tr th {\n",
       "        vertical-align: top;\n",
       "    }\n",
       "\n",
       "    .dataframe thead th {\n",
       "        text-align: right;\n",
       "    }\n",
       "</style>\n",
       "<table border=\"1\" class=\"dataframe\">\n",
       "  <thead>\n",
       "    <tr style=\"text-align: right;\">\n",
       "      <th></th>\n",
       "      <th>0</th>\n",
       "      <th>1</th>\n",
       "      <th>2</th>\n",
       "      <th>3</th>\n",
       "      <th>4</th>\n",
       "    </tr>\n",
       "  </thead>\n",
       "  <tbody>\n",
       "    <tr>\n",
       "      <th>0</th>\n",
       "      <td>Rishi</td>\n",
       "      <td>0.410075</td>\n",
       "      <td>0.065597</td>\n",
       "      <td>0.286763</td>\n",
       "      <td>0.070725</td>\n",
       "    </tr>\n",
       "    <tr>\n",
       "      <th>1</th>\n",
       "      <td>0.154395</td>\n",
       "      <td>0.813348</td>\n",
       "      <td>0.993320</td>\n",
       "      <td>0.700145</td>\n",
       "      <td>0.228389</td>\n",
       "    </tr>\n",
       "    <tr>\n",
       "      <th>2</th>\n",
       "      <td>0.515725</td>\n",
       "      <td>0.316709</td>\n",
       "      <td>0.236385</td>\n",
       "      <td>0.326834</td>\n",
       "      <td>0.507301</td>\n",
       "    </tr>\n",
       "    <tr>\n",
       "      <th>3</th>\n",
       "      <td>0.395581</td>\n",
       "      <td>0.412307</td>\n",
       "      <td>0.580574</td>\n",
       "      <td>0.898242</td>\n",
       "      <td>0.906209</td>\n",
       "    </tr>\n",
       "    <tr>\n",
       "      <th>4</th>\n",
       "      <td>0.536622</td>\n",
       "      <td>0.136400</td>\n",
       "      <td>0.431188</td>\n",
       "      <td>0.218096</td>\n",
       "      <td>0.360816</td>\n",
       "    </tr>\n",
       "  </tbody>\n",
       "</table>\n",
       "</div>"
      ],
      "text/plain": [
       "          0         1         2         3         4\n",
       "0     Rishi  0.410075  0.065597  0.286763  0.070725\n",
       "1  0.154395  0.813348  0.993320  0.700145  0.228389\n",
       "2  0.515725  0.316709  0.236385  0.326834  0.507301\n",
       "3  0.395581  0.412307  0.580574  0.898242  0.906209\n",
       "4  0.536622  0.136400  0.431188  0.218096  0.360816"
      ]
     },
     "execution_count": 31,
     "metadata": {},
     "output_type": "execute_result"
    }
   ],
   "source": [
    "newdf.head()"
   ]
  },
  {
   "cell_type": "code",
   "execution_count": 32,
   "id": "b83c3326-db22-4db5-a9af-200b37cc7763",
   "metadata": {},
   "outputs": [
    {
     "data": {
      "text/plain": [
       "0     object\n",
       "1    float64\n",
       "2    float64\n",
       "3    float64\n",
       "4    float64\n",
       "dtype: object"
      ]
     },
     "execution_count": 32,
     "metadata": {},
     "output_type": "execute_result"
    }
   ],
   "source": [
    "newdf.dtypes"
   ]
  },
  {
   "cell_type": "code",
   "execution_count": 33,
   "id": "46825045-a9ca-41c4-8172-991d41046d90",
   "metadata": {},
   "outputs": [
    {
     "data": {
      "text/plain": [
       "Index([  0,   1,   2,   3,   4,   5,   6,   7,   8,   9,\n",
       "       ...\n",
       "       324, 325, 326, 327, 328, 329, 330, 331, 332, 333],\n",
       "      dtype='int32', length=334)"
      ]
     },
     "execution_count": 33,
     "metadata": {},
     "output_type": "execute_result"
    }
   ],
   "source": [
    "newdf.index"
   ]
  },
  {
   "cell_type": "code",
   "execution_count": 35,
   "id": "b13347d4-b631-4c8a-849f-c24d8ffe455e",
   "metadata": {},
   "outputs": [
    {
     "data": {
      "text/plain": [
       "RangeIndex(start=0, stop=5, step=1)"
      ]
     },
     "execution_count": 35,
     "metadata": {},
     "output_type": "execute_result"
    }
   ],
   "source": [
    "newdf.columns"
   ]
  },
  {
   "cell_type": "code",
   "execution_count": 37,
   "id": "18c6f5dc-f08c-4f14-a187-63b94ecab7f1",
   "metadata": {},
   "outputs": [
    {
     "data": {
      "text/plain": [
       "array([['Rishi', 0.41007528750878375, 0.06559717067627013,\n",
       "        0.286763359865004, 0.07072532756503203],\n",
       "       [0.1543953175876368, 0.8133478501675605, 0.9933203740385453,\n",
       "        0.7001449840017627, 0.22838867244213024],\n",
       "       [0.515725278318106, 0.3167088213832919, 0.23638489717396716,\n",
       "        0.32683410625177955, 0.5073009517379059],\n",
       "       ...,\n",
       "       [0.43502545344509924, 0.6733314585537001, 0.5663362952589349,\n",
       "        0.894249880834321, 0.5330724481011547],\n",
       "       [0.5202285983402466, 0.08483044918357552, 0.2554060444516375,\n",
       "        0.13259846373876139, 0.6218704559690609],\n",
       "       [0.005766797565516457, 0.05867503253371775, 0.20567599711807283,\n",
       "        0.7458067723088215, 0.8346032278072654]], dtype=object)"
      ]
     },
     "execution_count": 37,
     "metadata": {},
     "output_type": "execute_result"
    }
   ],
   "source": [
    "newdf.to_numpy()"
   ]
  },
  {
   "cell_type": "code",
   "execution_count": null,
   "id": "23e6719b-884c-4ee1-add1-04fd7834c9ec",
   "metadata": {},
   "outputs": [],
   "source": []
  }
 ],
 "metadata": {
  "kernelspec": {
   "display_name": "Python 3 (ipykernel)",
   "language": "python",
   "name": "python3"
  },
  "language_info": {
   "codemirror_mode": {
    "name": "ipython",
    "version": 3
   },
   "file_extension": ".py",
   "mimetype": "text/x-python",
   "name": "python",
   "nbconvert_exporter": "python",
   "pygments_lexer": "ipython3",
   "version": "3.12.2"
  }
 },
 "nbformat": 4,
 "nbformat_minor": 5
}
